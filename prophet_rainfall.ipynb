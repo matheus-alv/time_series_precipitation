{
 "cells": [
  {
   "cell_type": "code",
   "execution_count": 1,
   "id": "6d4898f2-426d-4d9b-af81-c698cab4e988",
   "metadata": {},
   "outputs": [
    {
     "name": "stderr",
     "output_type": "stream",
     "text": [
      "Matplotlib created a temporary config/cache directory at C:\\Users\\MATHEU~1\\AppData\\Local\\Temp\\matplotlib-3fef_e4o because the default path (C:\\Users\\Matheus Alves\\.matplotlib) is not a writable directory; it is highly recommended to set the MPLCONFIGDIR environment variable to a writable directory, in particular to speed up the import of Matplotlib and to better support multiprocessing.\n",
      "C:\\Users\\Matheus Alves\\Documents\\git_tcc\\time_series_precipitation\\ts\\lib\\site-packages\\tqdm\\auto.py:22: TqdmWarning: IProgress not found. Please update jupyter and ipywidgets. See https://ipywidgets.readthedocs.io/en/stable/user_install.html\n",
      "  from .autonotebook import tqdm as notebook_tqdm\n",
      "Importing plotly failed. Interactive plots will not work.\n"
     ]
    }
   ],
   "source": [
    "from dateutil.parser import parse \n",
    "import numpy as np\n",
    "import pandas as pd\n",
    "import matplotlib.pyplot as plt\n",
    "from prophet import Prophet as pr\n",
    "#import mplcursors\n",
    "from datetime import datetime\n",
    " \n",
    "import warnings\n",
    "warnings.filterwarnings(\"ignore\")"
   ]
  },
  {
   "cell_type": "markdown",
   "id": "3444b4c3-828e-49a5-98c2-a06cdb99b3d0",
   "metadata": {},
   "source": [
    "# Carregando Base de Dados"
   ]
  },
  {
   "cell_type": "code",
   "execution_count": 83,
   "id": "e5ac4112-faf6-4eaa-9acd-401cc3dd7846",
   "metadata": {},
   "outputs": [],
   "source": [
    "rainfall = pd.read_csv(r\"C:\\Users\\Matheus Alves\\Documents\\git_tcc\\time_series_precipitation\\Dataset\\dados_chuvas1.csv\", parse_dates=True)"
   ]
  },
  {
   "cell_type": "code",
   "execution_count": 91,
   "id": "12ee9d57-06d8-440f-a708-2a7f4aef40c7",
   "metadata": {},
   "outputs": [],
   "source": [
    "rainfall['Date'] = pd.to_datetime(rainfall['Date'], format=\"%Y/%m/d\")\n",
    "rainfall['Date'] = rainfall['Date'].dt.strftime('%Y-%m')"
   ]
  },
  {
   "cell_type": "code",
   "execution_count": 93,
   "id": "654234d1-1d1e-4d12-9715-6e1863257c27",
   "metadata": {},
   "outputs": [
    {
     "data": {
      "text/html": [
       "<div>\n",
       "<style scoped>\n",
       "    .dataframe tbody tr th:only-of-type {\n",
       "        vertical-align: middle;\n",
       "    }\n",
       "\n",
       "    .dataframe tbody tr th {\n",
       "        vertical-align: top;\n",
       "    }\n",
       "\n",
       "    .dataframe thead th {\n",
       "        text-align: right;\n",
       "    }\n",
       "</style>\n",
       "<table border=\"1\" class=\"dataframe\">\n",
       "  <thead>\n",
       "    <tr style=\"text-align: right;\">\n",
       "      <th></th>\n",
       "      <th>Date</th>\n",
       "      <th>Precipitation</th>\n",
       "    </tr>\n",
       "  </thead>\n",
       "  <tbody>\n",
       "    <tr>\n",
       "      <th>0</th>\n",
       "      <td>1984-01</td>\n",
       "      <td>259.3</td>\n",
       "    </tr>\n",
       "    <tr>\n",
       "      <th>1</th>\n",
       "      <td>1984-02</td>\n",
       "      <td>32.5</td>\n",
       "    </tr>\n",
       "    <tr>\n",
       "      <th>2</th>\n",
       "      <td>1984-03</td>\n",
       "      <td>54.0</td>\n",
       "    </tr>\n",
       "    <tr>\n",
       "      <th>3</th>\n",
       "      <td>1984-04</td>\n",
       "      <td>96.8</td>\n",
       "    </tr>\n",
       "    <tr>\n",
       "      <th>4</th>\n",
       "      <td>1984-05</td>\n",
       "      <td>113.0</td>\n",
       "    </tr>\n",
       "    <tr>\n",
       "      <th>...</th>\n",
       "      <td>...</td>\n",
       "      <td>...</td>\n",
       "    </tr>\n",
       "    <tr>\n",
       "      <th>452</th>\n",
       "      <td>2021-09</td>\n",
       "      <td>39.5</td>\n",
       "    </tr>\n",
       "    <tr>\n",
       "      <th>453</th>\n",
       "      <td>2021-10</td>\n",
       "      <td>91.9</td>\n",
       "    </tr>\n",
       "    <tr>\n",
       "      <th>454</th>\n",
       "      <td>2021-11</td>\n",
       "      <td>98.6</td>\n",
       "    </tr>\n",
       "    <tr>\n",
       "      <th>455</th>\n",
       "      <td>2021-12</td>\n",
       "      <td>127.3</td>\n",
       "    </tr>\n",
       "    <tr>\n",
       "      <th>456</th>\n",
       "      <td>2022-01</td>\n",
       "      <td>308.5</td>\n",
       "    </tr>\n",
       "  </tbody>\n",
       "</table>\n",
       "<p>457 rows × 2 columns</p>\n",
       "</div>"
      ],
      "text/plain": [
       "        Date  Precipitation\n",
       "0    1984-01          259.3\n",
       "1    1984-02           32.5\n",
       "2    1984-03           54.0\n",
       "3    1984-04           96.8\n",
       "4    1984-05          113.0\n",
       "..       ...            ...\n",
       "452  2021-09           39.5\n",
       "453  2021-10           91.9\n",
       "454  2021-11           98.6\n",
       "455  2021-12          127.3\n",
       "456  2022-01          308.5\n",
       "\n",
       "[457 rows x 2 columns]"
      ]
     },
     "execution_count": 93,
     "metadata": {},
     "output_type": "execute_result"
    }
   ],
   "source": [
    "rainfall"
   ]
  },
  {
   "cell_type": "code",
   "execution_count": 94,
   "id": "00bfc224-38b9-4586-9925-072b53b9b6cc",
   "metadata": {},
   "outputs": [],
   "source": [
    "train, test = rainfall.iloc[:-14], rainfall.iloc[-15:]"
   ]
  },
  {
   "cell_type": "code",
   "execution_count": null,
   "id": "9b2fd498-186d-4db8-be40-146ef34bd5bc",
   "metadata": {},
   "outputs": [],
   "source": []
  },
  {
   "cell_type": "code",
   "execution_count": null,
   "id": "78cc94d9-05d8-43b1-8681-3e37a0f1d3f0",
   "metadata": {},
   "outputs": [],
   "source": []
  }
 ],
 "metadata": {
  "kernelspec": {
   "display_name": "ts",
   "language": "python",
   "name": "ts"
  },
  "language_info": {
   "codemirror_mode": {
    "name": "ipython",
    "version": 3
   },
   "file_extension": ".py",
   "mimetype": "text/x-python",
   "name": "python",
   "nbconvert_exporter": "python",
   "pygments_lexer": "ipython3",
   "version": "3.10.4"
  }
 },
 "nbformat": 4,
 "nbformat_minor": 5
}
